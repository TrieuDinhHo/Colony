{
  "cells": [
    {
      "cell_type": "markdown",
      "metadata": {
        "colab_type": "text",
        "id": "view-in-github"
      },
      "source": [
        "<a href=\"https://colab.research.google.com/github/KenzaB27/TransUnet/blob/main/TransUNet_demo.ipynb\" target=\"_parent\"><img src=\"https://colab.research.google.com/assets/colab-badge.svg\" alt=\"Open In Colab\"/></a>"
      ]
    },
    {
      "cell_type": "markdown",
      "metadata": {
        "id": "STKN5H8PZJSZ"
      },
      "source": [
        "# Medical Image Segmentation with Vision Transformers as a strong Encoder\n"
      ]
    },
    {
      "cell_type": "code",
      "execution_count": null,
      "metadata": {},
      "outputs": [],
      "source": [
        "from data_processing.data_parser import DataWriter\n",
        "from models.transunet import TransUnet\n",
        "from data_processing.data_parser import DataReader\n",
        "from experiments.config import get_transunet\n",
        "import data_processing.data_parser as data_parser\n",
        "import utils.visualize as visualize\n",
        "import experiments.config as conf\n",
        "import importlib\n",
        "import models.encoder_layers as encoder_layers\n",
        "import models.decoder_layers as decoder_layers\n",
        "from models.resnet_v2 import ResNetV2\n",
        "import numpy as np\n",
        "import tensorflow as tf"
      ]
    },
    {
      "cell_type": "code",
      "execution_count": null,
      "metadata": {
        "id": "xaYzdTp3k5FF"
      },
      "outputs": [],
      "source": [
        "data_zip = r\"train_npz.rar\"\n",
        "tf_record_dir = r\"tf_record/\"\n",
        "save_path= r\"save_model/\""
      ]
    },
    {
      "cell_type": "markdown",
      "metadata": {},
      "source": [
        "**Change data format to tfRecord format**\n",
        "if tfRecord file is availble, you should not run cell below"
      ]
    },
    {
      "cell_type": "code",
      "execution_count": null,
      "metadata": {
        "id": "B4xhej5aZH7m"
      },
      "outputs": [],
      "source": [
        "dw = DataWriter(src_path=data_zip,dest_path=tf_record_dir,batch_size=25, height=224, width=224)\n",
        "test_dataset = dw.write_batch_tfrecords()"
      ]
    },
    {
      "cell_type": "markdown",
      "metadata": {},
      "source": [
        "**Prepare data from tfRecord Data**"
      ]
    },
    {
      "cell_type": "code",
      "execution_count": null,
      "metadata": {},
      "outputs": [],
      "source": [
        "## Prepare data\n",
        "dr = DataReader(src_path=tf_record_dir, height=224, width=224, depth=3)\n",
        "training_dataset = dr.get_dataset_training(image_size=224,validation=False)"
      ]
    },
    {
      "cell_type": "code",
      "execution_count": null,
      "metadata": {},
      "outputs": [],
      "source": [
        "## Train Model\n",
        "config = get_transunet()\n",
        "transunet = TransUnet(config)\n",
        "transunet.compile()\n",
        "training_dataset\n",
        "transunet.model.summary()"
      ]
    },
    {
      "cell_type": "markdown",
      "metadata": {},
      "source": [
        "**Train**"
      ]
    },
    {
      "cell_type": "code",
      "execution_count": null,
      "metadata": {},
      "outputs": [],
      "source": [
        "history = transunet.train(training_dataset, save_path, epochs=50)"
      ]
    },
    {
      "cell_type": "markdown",
      "metadata": {},
      "source": [
        "**Load weights and model**"
      ]
    },
    {
      "cell_type": "code",
      "execution_count": null,
      "metadata": {},
      "outputs": [],
      "source": [
        "new_model = tf.keras.models.load_model('/content/drive/MyDrive/Data/savekeras/my_model.h5',\n",
        "                                       custom_objects={\"ResNetV2\":ResNetV2,\"AddPositionEmbs\":encoder_layers.AddPositionEmbs,\n",
        "                                                       \"TransformerBlock\":encoder_layers.TransformerBlock,\"DecoderCup\":decoder_layers.DecoderCup,\n",
        "                                                       \"SegmentationHead\":decoder_layers.SegmentationHead,\"segmentation_loss\":TransUnet.segmentation_loss})\n",
        "\n",
        "# Show the model architecture\n",
        "new_model.summary()"
      ]
    },
    {
      "cell_type": "markdown",
      "metadata": {},
      "source": [
        "**Test**"
      ]
    },
    {
      "cell_type": "code",
      "execution_count": null,
      "metadata": {},
      "outputs": [],
      "source": [
        "dir1 = r'/content/drive/MyDrive/Data/train_npz/Image_87_20.npz'\n",
        "a=np.load(dir1)\n",
        "visualize.visualize_non_empty_predictions(a['image'],a['label'],[new_model])"
      ]
    }
  ],
  "metadata": {
    "colab": {
      "include_colab_link": true,
      "name": "TransUNet_demo.ipynb",
      "provenance": []
    },
    "kernelspec": {
      "display_name": "Python 3",
      "name": "python3"
    },
    "language_info": {
      "name": "python"
    },
    "orig_nbformat": 2
  },
  "nbformat": 4,
  "nbformat_minor": 0
}
